{
 "cells": [
  {
   "cell_type": "markdown",
   "metadata": {},
   "source": [
    "Before you begin, you will need to create a file called 'account.env' and copy/paste the below code into the file. Be sure to replace the placeholder values for the username and password with your own unique keys provided at https://www.ravelry.com/pro/developer. For this application, we are using the \"Basic Auth, read only\" level of access.\n",
    "\n",
    "<code># .env\n",
    "RAVELRY_USERNAME='Your Username'\n",
    "RAVELRY_PASSWORD='Your Password'</code>\n",
    "\n",
    "Once you have a file set up with your credentials, let's get started!"
   ]
  },
  {
   "cell_type": "code",
   "execution_count": 3,
   "metadata": {},
   "outputs": [
    {
     "data": {
      "text/plain": [
       "True"
      ]
     },
     "execution_count": 3,
     "metadata": {},
     "output_type": "execute_result"
    }
   ],
   "source": [
    "# settings.py\n",
    "from dotenv import load_dotenv\n",
    "load_dotenv()\n",
    "\n",
    "# OR, explicitly providing path to '.env'\n",
    "from pathlib import Path  # python3 only\n",
    "env_path = 'account.env'\n",
    "load_dotenv(dotenv_path=env_path)"
   ]
  },
  {
   "cell_type": "code",
   "execution_count": 4,
   "metadata": {},
   "outputs": [],
   "source": [
    "import os\n",
    "RAVELRY_USERNAME = os.getenv(\"RAVELRY_USERNAME\")\n",
    "RAVELRY_PASSWORD = os.getenv(\"RAVELRY_PASSWORD\")"
   ]
  },
  {
   "cell_type": "markdown",
   "metadata": {},
   "source": [
    "At this point, I actually did a quick print to confirm that all was well with importing my authentication keys for the site. If you need that comfort, too, just remove the commenting from the below two lines. That will let you double check that both variables are carrying the correct values at this point in your personal running of the code."
   ]
  },
  {
   "cell_type": "code",
   "execution_count": null,
   "metadata": {},
   "outputs": [],
   "source": [
    "# print(RAVELRY_USERNAME)\n",
    "# print(RAVELRY_PASSWORD)"
   ]
  },
  {
   "cell_type": "code",
   "execution_count": 7,
   "metadata": {},
   "outputs": [],
   "source": [
    "import requests\n",
    "import json\n",
    "import pandas as pd\n",
    "\n",
    "url = \"https://api.ravelry.com/patterns/search.json\"\n",
    "response = requests.get(url, params={\"query\": \"test\"}, auth=(RAVELRY_USERNAME, RAVELRY_PASSWORD))"
   ]
  },
  {
   "cell_type": "code",
   "execution_count": 8,
   "metadata": {},
   "outputs": [
    {
     "data": {
      "text/plain": [
       "<Response [200]>"
      ]
     },
     "execution_count": 8,
     "metadata": {},
     "output_type": "execute_result"
    }
   ],
   "source": [
    "response"
   ]
  },
  {
   "cell_type": "markdown",
   "metadata": {},
   "source": [
    "As long as you're seeing that sweet \"<Response [200]>\" you're golden. That means that your authentication has been successful and you made a connection."
   ]
  },
  {
   "cell_type": "code",
   "execution_count": 10,
   "metadata": {},
   "outputs": [],
   "source": [
    "patternData = response.json()"
   ]
  },
  {
   "cell_type": "code",
   "execution_count": 12,
   "metadata": {},
   "outputs": [
    {
     "data": {
      "text/plain": [
       "2"
      ]
     },
     "execution_count": 12,
     "metadata": {},
     "output_type": "execute_result"
    }
   ],
   "source": [
    "len(patternData)"
   ]
  },
  {
   "cell_type": "code",
   "execution_count": 15,
   "metadata": {},
   "outputs": [
    {
     "data": {
      "text/plain": [
       "dict_keys(['patterns', 'paginator'])"
      ]
     },
     "execution_count": 15,
     "metadata": {},
     "output_type": "execute_result"
    }
   ],
   "source": [
    "patternData.keys()"
   ]
  },
  {
   "cell_type": "code",
   "execution_count": 17,
   "metadata": {},
   "outputs": [
    {
     "data": {
      "text/plain": [
       "100"
      ]
     },
     "execution_count": 17,
     "metadata": {},
     "output_type": "execute_result"
    }
   ],
   "source": [
    "len(patternData['patterns'])"
   ]
  },
  {
   "cell_type": "code",
   "execution_count": 18,
   "metadata": {},
   "outputs": [
    {
     "data": {
      "text/plain": [
       "list"
      ]
     },
     "execution_count": 18,
     "metadata": {},
     "output_type": "execute_result"
    }
   ],
   "source": [
    "type(patternData['patterns'])"
   ]
  },
  {
   "cell_type": "code",
   "execution_count": 19,
   "metadata": {},
   "outputs": [
    {
     "data": {
      "text/plain": [
       "{'free': False,\n",
       " 'id': 282271,\n",
       " 'name': 'Test Tube Sock- Fingering Weight',\n",
       " 'permalink': 'test-tube-sock--fingering-weight',\n",
       " 'personal_attributes': None,\n",
       " 'first_photo': {'id': 20335231,\n",
       "  'sort_order': 1,\n",
       "  'x_offset': 2,\n",
       "  'y_offset': -146,\n",
       "  'square_url': 'https://images4-g.ravelrycache.com/uploads/kimpy/81896648/TT_sock_fingering_weight_thumb_square.jpg',\n",
       "  'medium_url': 'https://images4-g.ravelrycache.com/uploads/kimpy/81896648/TT_sock_fingering_weight_thumb_medium.jpg',\n",
       "  'thumbnail_url': 'https://images4-g.ravelrycache.com/uploads/kimpy/81896648/TT_sock_fingering_weight_thumb_thumbnail.jpg',\n",
       "  'small_url': 'https://images4-f.ravelrycache.com/uploads/kimpy/81896648/TT_sock_fingering_weight_thumb_small_best_fit.jpg',\n",
       "  'medium2_url': 'https://images4-g.ravelrycache.com/uploads/kimpy/81896648/TT_sock_fingering_weight_thumb_medium2.jpg',\n",
       "  'small2_url': 'https://images4-g.ravelrycache.com/uploads/kimpy/81896648/TT_sock_fingering_weight_thumb_small2.jpg',\n",
       "  'caption': None,\n",
       "  'caption_html': None,\n",
       "  'copyright_holder': 'Kim Conterio for Bella Yarns'},\n",
       " 'designer': {'crochet_pattern_count': 0,\n",
       "  'favorites_count': 11,\n",
       "  'id': 34015,\n",
       "  'knitting_pattern_count': 24,\n",
       "  'name': 'Naomi Herzfeld',\n",
       "  'patterns_count': 24,\n",
       "  'permalink': 'naomi-herzfeld',\n",
       "  'users': [{'id': 146938,\n",
       "    'username': 'nbhknits',\n",
       "    'tiny_photo_url': 'https://avatars-d.ravelrycache.com/nbhknits/34995264/Ravelry_Profile_Picture_tiny.jpg',\n",
       "    'small_photo_url': 'https://avatars-d.ravelrycache.com/nbhknits/34995264/Ravelry_Profile_Picture_small.jpg',\n",
       "    'photo_url': 'https://avatars-d.ravelrycache.com/nbhknits/34995264/Ravelry_Profile_Picture_large.jpg'}]},\n",
       " 'pattern_author': {'crochet_pattern_count': 0,\n",
       "  'favorites_count': 11,\n",
       "  'id': 34015,\n",
       "  'knitting_pattern_count': 24,\n",
       "  'name': 'Naomi Herzfeld',\n",
       "  'patterns_count': 24,\n",
       "  'permalink': 'naomi-herzfeld',\n",
       "  'users': [{'id': 146938,\n",
       "    'username': 'nbhknits',\n",
       "    'tiny_photo_url': 'https://avatars-d.ravelrycache.com/nbhknits/34995264/Ravelry_Profile_Picture_tiny.jpg',\n",
       "    'small_photo_url': 'https://avatars-d.ravelrycache.com/nbhknits/34995264/Ravelry_Profile_Picture_small.jpg',\n",
       "    'photo_url': 'https://avatars-d.ravelrycache.com/nbhknits/34995264/Ravelry_Profile_Picture_large.jpg'}]},\n",
       " 'pattern_sources': [{'amazon_rating': None,\n",
       "   'amazon_reviews': None,\n",
       "   'amazon_sales_rank': None,\n",
       "   'amazon_updated_at': None,\n",
       "   'amazon_url': None,\n",
       "   'approved_patterns_count': 3,\n",
       "   'asin': '',\n",
       "   'author': 'Naomi Herzfeld',\n",
       "   'author_pattern_author_id': 34015,\n",
       "   'author_surname': 'Herzfeld',\n",
       "   'book_binding': None,\n",
       "   'completed': False,\n",
       "   'created_at': '2011/11/21 19:38:34 -0500',\n",
       "   'designer_pending_patterns_count': 0,\n",
       "   'designer_users_count': 3,\n",
       "   'editorships_count': 0,\n",
       "   'favorites_count': 5,\n",
       "   'first_photo_id': 20356622,\n",
       "   'flaggings_count': 0,\n",
       "   'fulfilled_by_ravelry': False,\n",
       "   'has_photo': True,\n",
       "   'id': 101155,\n",
       "   'isbn_13': '',\n",
       "   'issue': None,\n",
       "   'keywords': '',\n",
       "   'label': None,\n",
       "   'large_image_url': None,\n",
       "   'last_pattern_edit': '2017/04/15 13:12:25 -0400',\n",
       "   'link_id': None,\n",
       "   'list_price': None,\n",
       "   'lock_version': 4,\n",
       "   'medium_image_url': None,\n",
       "   'name': 'Test Tube Socks ebook',\n",
       "   'out_of_print': False,\n",
       "   'pattern_source_type_id': 6,\n",
       "   'patterns_count': 3,\n",
       "   'pending_patterns_count': 0,\n",
       "   'periodical': False,\n",
       "   'permalink': 'test-tube-socks-ebook',\n",
       "   'photos_permitted': False,\n",
       "   'popularity': 0.0,\n",
       "   'popularity_rank': 2147483647,\n",
       "   'price': None,\n",
       "   'publication_date': None,\n",
       "   'publication_date_set': 0,\n",
       "   'publication_day_set': 0,\n",
       "   'publication_sort_order': None,\n",
       "   'publication_year': None,\n",
       "   'publisher_id': None,\n",
       "   'shelf_image_path': 'http://images4.ravelry.com/uploads/kimpy/82033805/TTsock_sport_weight_shelved.jpg',\n",
       "   'shelf_image_size': '115x150',\n",
       "   'small_image_url': 'http://images4.ravelry.com/uploads/kimpy/82033805/TTsock_sport_weight_square.jpg',\n",
       "   'source_group_id': None,\n",
       "   'stickies_count': 0,\n",
       "   'store_id': None,\n",
       "   'updated_at': '2015/12/22 12:52:14 -0500',\n",
       "   'url': '',\n",
       "   'work_id': None,\n",
       "   'notes': 'Why test tube? First, because the sock is shaped like one, and second, because it began as an experiment in making samples to fit weirdly arched mannequin feet.\\r\\n\\r\\nBut our results went way beyond the mannequins – even without a heel, the special rib stitch conformed almost instantly to the feet of anyone who tried on the sock.\\r\\n\\r\\nTest Tube Socks are not suited for infants (too easy to kick off!) but are awesome for kids – they magically adjust to growing feet. Fast & easy to knit, comfy, attractive, and resistant to wearing out, what’s not to love?'}]}"
      ]
     },
     "execution_count": 19,
     "metadata": {},
     "output_type": "execute_result"
    }
   ],
   "source": [
    "patternData['patterns'][0]"
   ]
  },
  {
   "cell_type": "code",
   "execution_count": null,
   "metadata": {},
   "outputs": [],
   "source": []
  }
 ],
 "metadata": {
  "kernelspec": {
   "display_name": "Python 3",
   "language": "python",
   "name": "python3"
  },
  "language_info": {
   "codemirror_mode": {
    "name": "ipython",
    "version": 3
   },
   "file_extension": ".py",
   "mimetype": "text/x-python",
   "name": "python",
   "nbconvert_exporter": "python",
   "pygments_lexer": "ipython3",
   "version": "3.7.3"
  }
 },
 "nbformat": 4,
 "nbformat_minor": 2
}
