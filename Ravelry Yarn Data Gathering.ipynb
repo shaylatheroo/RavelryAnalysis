{
 "cells": [
  {
   "cell_type": "markdown",
   "metadata": {},
   "source": [
    "This file is a \"step 2\" of sorts, assuming you've already created an 'account.env' file per the 'Ravelry Pattern Data Gathering' notebook. This notebook goes through the steps to gather the relevant yarn data for our analysis. As of this writing, going to the Yarn Search of Ravelry and narrowing down to yarn via attributes: hand-dyed shows <b>21,320</b> results. This notebook will grab data from the top 1,000, sorted by \"most projects,\" ~5% of the total results.\n",
    "\n",
    "The process will be very similar to gathering our pattern data, and will also follow the process of assigning the final dataframe to a .csv for future import and analysis."
   ]
  },
  {
   "cell_type": "code",
   "execution_count": 1,
   "metadata": {},
   "outputs": [
    {
     "data": {
      "text/plain": [
       "True"
      ]
     },
     "execution_count": 1,
     "metadata": {},
     "output_type": "execute_result"
    }
   ],
   "source": [
    "# settings.py\n",
    "from dotenv import load_dotenv\n",
    "load_dotenv()\n",
    "\n",
    "# OR, explicitly providing path to '.env'\n",
    "from pathlib import Path  # python3 only\n",
    "env_path = 'account.env'\n",
    "load_dotenv(dotenv_path=env_path)"
   ]
  },
  {
   "cell_type": "code",
   "execution_count": 2,
   "metadata": {},
   "outputs": [],
   "source": [
    "import os\n",
    "RAVELRY_USERNAME = os.getenv(\"RAVELRY_USERNAME\")\n",
    "RAVELRY_PASSWORD = os.getenv(\"RAVELRY_PASSWORD\")"
   ]
  },
  {
   "cell_type": "code",
   "execution_count": 3,
   "metadata": {},
   "outputs": [],
   "source": [
    "import requests\n",
    "import json\n",
    "import pandas as pd"
   ]
  },
  {
   "cell_type": "code",
   "execution_count": 5,
   "metadata": {},
   "outputs": [
    {
     "name": "stdout",
     "output_type": "stream",
     "text": [
      "<Response [200]>\n"
     ]
    }
   ],
   "source": [
    "url = \"https://api.ravelry.com/yarns/search.json\"\n",
    "response = requests.get(url, params={\"sort\": \"projects\", \"page_size\": 1000,\n",
    "                                    \"ya\":\"hand-dyed\"}, auth=(RAVELRY_USERNAME, RAVELRY_PASSWORD))\n",
    "print(response)"
   ]
  },
  {
   "cell_type": "code",
   "execution_count": 7,
   "metadata": {},
   "outputs": [
    {
     "data": {
      "text/plain": [
       "dict_keys(['yarns', 'paginator'])"
      ]
     },
     "execution_count": 7,
     "metadata": {},
     "output_type": "execute_result"
    }
   ],
   "source": [
    "yarnData = response.json()\n",
    "yarnData.keys()"
   ]
  },
  {
   "cell_type": "code",
   "execution_count": 8,
   "metadata": {},
   "outputs": [],
   "source": [
    "yarnData = yarnData['yarns']"
   ]
  },
  {
   "cell_type": "code",
   "execution_count": 13,
   "metadata": {},
   "outputs": [
    {
     "data": {
      "text/plain": [
       "{'discontinued': False,\n",
       " 'gauge_divisor': 4,\n",
       " 'grams': 100,\n",
       " 'id': 1666,\n",
       " 'machine_washable': None,\n",
       " 'max_gauge': None,\n",
       " 'min_gauge': 18.0,\n",
       " 'name': 'Worsted',\n",
       " 'permalink': 'malabrigo-yarn-worsted',\n",
       " 'rating_average': 4.73,\n",
       " 'rating_count': 19461,\n",
       " 'rating_total': 92035,\n",
       " 'texture': 'singles',\n",
       " 'thread_size': None,\n",
       " 'wpi': 8,\n",
       " 'yardage': 210,\n",
       " 'yarn_company_name': 'Malabrigo Yarn',\n",
       " 'first_photo': {'id': 17858294,\n",
       "  'sort_order': 1,\n",
       "  'x_offset': -34,\n",
       "  'y_offset': -15,\n",
       "  'square_url': 'https://images4-g.ravelrycache.com/uploads/jomejo209/15896181/IMG_1120_square.JPG',\n",
       "  'medium_url': 'https://images4-f.ravelrycache.com/uploads/jomejo209/15896181/IMG_1120_medium.JPG',\n",
       "  'thumbnail_url': 'https://images4-g.ravelrycache.com/uploads/jomejo209/15896181/IMG_1120_thumbnail.JPG',\n",
       "  'small_url': 'https://images4-f.ravelrycache.com/uploads/jomejo209/15896181/IMG_1120_small.JPG',\n",
       "  'medium2_url': 'https://images4-f.ravelrycache.com/uploads/jomejo209/15896181/IMG_1120_medium2.JPG',\n",
       "  'small2_url': 'https://images4-g.ravelrycache.com/uploads/jomejo209/15896181/IMG_1120_small2.JPG',\n",
       "  'caption': None,\n",
       "  'caption_html': None,\n",
       "  'copyright_holder': 'jomejo209'},\n",
       " 'personal_attributes': None,\n",
       " 'yarn_weight': {'crochet_gauge': '',\n",
       "  'id': 1,\n",
       "  'knit_gauge': '18',\n",
       "  'max_gauge': None,\n",
       "  'min_gauge': None,\n",
       "  'name': 'Aran',\n",
       "  'ply': '10',\n",
       "  'wpi': '8'}}"
      ]
     },
     "execution_count": 13,
     "metadata": {},
     "output_type": "execute_result"
    }
   ],
   "source": [
    "yarnData[0]"
   ]
  },
  {
   "cell_type": "code",
   "execution_count": 33,
   "metadata": {},
   "outputs": [
    {
     "data": {
      "text/plain": [
       "dict_keys(['discontinued', 'gauge_divisor', 'grams', 'id', 'machine_washable', 'max_gauge', 'min_gauge', 'name', 'permalink', 'rating_average', 'rating_count', 'rating_total', 'texture', 'thread_size', 'wpi', 'yardage', 'yarn_company_name', 'first_photo', 'personal_attributes', 'yarn_weight'])"
      ]
     },
     "execution_count": 33,
     "metadata": {},
     "output_type": "execute_result"
    }
   ],
   "source": [
    "yarnData[0].keys()"
   ]
  },
  {
   "cell_type": "markdown",
   "metadata": {},
   "source": [
    "These are the fields that we're most interested in gathering for yarn data:\n",
    "\n",
    "- discontinued\n",
    "- grams\n",
    "- id\n",
    "- machine_washable\n",
    "- rating_average\n",
    "- yardage\n",
    "- yarn_weight > name\n",
    "\n",
    "Initially, we had considered going one level deeper to pull more yarn data to get the fiber contents, but we ultimately didn't feel we could gain any great insights using our analysis methods in how we'd pull this data. The varying content percentages as well as varying possible total number of fibers make it a difficult metric to pull and analyze/compare.\n",
    "\n",
    "With dropping the idea of grabbing the yarn fibers, we can get all of the data we need from our initial GET.\n",
    "\n",
    "So, at this point, we have all of the data we need, we just need to organize it into pretty lists, zip it up into a dataframe, and export to csv."
   ]
  },
  {
   "cell_type": "code",
   "execution_count": 44,
   "metadata": {},
   "outputs": [],
   "source": [
    "discontinuedls = []\n",
    "gramsls = []\n",
    "idls = []\n",
    "machine_washablels = []\n",
    "rating_averagels = []\n",
    "yardagels = []\n",
    "yarn_weightls = []"
   ]
  },
  {
   "cell_type": "code",
   "execution_count": 45,
   "metadata": {},
   "outputs": [],
   "source": [
    "for yarn in yarnData:\n",
    "    try: discontinued = yarn['discontinued']\n",
    "    except: discontinued = None\n",
    "        \n",
    "    try: grams = yarn['grams']\n",
    "    except: grams = None\n",
    "        \n",
    "    try: yid = yarn['id']\n",
    "    except: yid = None\n",
    "        \n",
    "    try: machine_washable = yarn['machine_washable']\n",
    "    except: machine_washable = None\n",
    "        \n",
    "    try: rating_average = yarn['rating_average']\n",
    "    except: rating_average = None\n",
    "        \n",
    "    try: yardage = yarn['yardage']\n",
    "    except: yardage = None\n",
    "        \n",
    "    try: yarn_weight = yarn['yarn_weight']['name']\n",
    "    except: yarn_weight = None\n",
    "        \n",
    "    discontinuedls.append(discontinued)\n",
    "    gramsls.append(grams)\n",
    "    idls.append(yid)\n",
    "    machine_washablels.append(machine_washable)\n",
    "    rating_averagels.append(rating_average)\n",
    "    yardagels.append(yardage)\n",
    "    yarn_weightls.append(yarn_weight)"
   ]
  },
  {
   "cell_type": "code",
   "execution_count": 46,
   "metadata": {},
   "outputs": [
    {
     "name": "stdout",
     "output_type": "stream",
     "text": [
      "1000\n",
      "1000\n",
      "1000\n",
      "1000\n",
      "1000\n",
      "1000\n",
      "1000\n"
     ]
    }
   ],
   "source": [
    "print(len(discontinuedls))\n",
    "print(len(gramsls))\n",
    "print(len(idls))\n",
    "print(len(machine_washablels))\n",
    "print(len(rating_averagels))\n",
    "print(len(yardagels))\n",
    "print(len(yarn_weightls))"
   ]
  },
  {
   "cell_type": "code",
   "execution_count": 47,
   "metadata": {},
   "outputs": [],
   "source": [
    "TopYarnList = list(zip(idls, discontinuedls, gramsls, machine_washablels,\n",
    "                       rating_averagels, yardagels, yarn_weightls))\n",
    "colnames = ['Yarn ID', 'Discontinued', 'Grams', 'Machine Washable', 'Average Rating', 'Yardage', 'Yarn Weight']"
   ]
  },
  {
   "cell_type": "code",
   "execution_count": 48,
   "metadata": {},
   "outputs": [
    {
     "data": {
      "text/html": [
       "<div>\n",
       "<style scoped>\n",
       "    .dataframe tbody tr th:only-of-type {\n",
       "        vertical-align: middle;\n",
       "    }\n",
       "\n",
       "    .dataframe tbody tr th {\n",
       "        vertical-align: top;\n",
       "    }\n",
       "\n",
       "    .dataframe thead th {\n",
       "        text-align: right;\n",
       "    }\n",
       "</style>\n",
       "<table border=\"1\" class=\"dataframe\">\n",
       "  <thead>\n",
       "    <tr style=\"text-align: right;\">\n",
       "      <th></th>\n",
       "      <th>Yarn ID</th>\n",
       "      <th>Discontinued</th>\n",
       "      <th>Grams</th>\n",
       "      <th>Machine Washable</th>\n",
       "      <th>Average Rating</th>\n",
       "      <th>Yardage</th>\n",
       "      <th>Yarn Weight</th>\n",
       "    </tr>\n",
       "  </thead>\n",
       "  <tbody>\n",
       "    <tr>\n",
       "      <th>0</th>\n",
       "      <td>1666</td>\n",
       "      <td>False</td>\n",
       "      <td>100.0</td>\n",
       "      <td>None</td>\n",
       "      <td>4.73</td>\n",
       "      <td>210.0</td>\n",
       "      <td>Aran</td>\n",
       "    </tr>\n",
       "    <tr>\n",
       "      <th>1</th>\n",
       "      <td>53539</td>\n",
       "      <td>False</td>\n",
       "      <td>NaN</td>\n",
       "      <td>True</td>\n",
       "      <td>4.70</td>\n",
       "      <td>420.0</td>\n",
       "      <td>Fingering</td>\n",
       "    </tr>\n",
       "    <tr>\n",
       "      <th>2</th>\n",
       "      <td>26385</td>\n",
       "      <td>False</td>\n",
       "      <td>100.0</td>\n",
       "      <td>True</td>\n",
       "      <td>4.73</td>\n",
       "      <td>440.0</td>\n",
       "      <td>Light Fingering</td>\n",
       "    </tr>\n",
       "    <tr>\n",
       "      <th>3</th>\n",
       "      <td>3893</td>\n",
       "      <td>False</td>\n",
       "      <td>150.0</td>\n",
       "      <td>True</td>\n",
       "      <td>4.71</td>\n",
       "      <td>574.0</td>\n",
       "      <td>Fingering</td>\n",
       "    </tr>\n",
       "    <tr>\n",
       "      <th>4</th>\n",
       "      <td>24750</td>\n",
       "      <td>False</td>\n",
       "      <td>150.0</td>\n",
       "      <td>True</td>\n",
       "      <td>4.69</td>\n",
       "      <td>510.0</td>\n",
       "      <td>Fingering</td>\n",
       "    </tr>\n",
       "    <tr>\n",
       "      <th>5</th>\n",
       "      <td>35367</td>\n",
       "      <td>False</td>\n",
       "      <td>NaN</td>\n",
       "      <td>True</td>\n",
       "      <td>4.78</td>\n",
       "      <td>225.0</td>\n",
       "      <td>DK</td>\n",
       "    </tr>\n",
       "    <tr>\n",
       "      <th>6</th>\n",
       "      <td>8053</td>\n",
       "      <td>False</td>\n",
       "      <td>NaN</td>\n",
       "      <td>True</td>\n",
       "      <td>4.71</td>\n",
       "      <td>395.0</td>\n",
       "      <td>Fingering</td>\n",
       "    </tr>\n",
       "    <tr>\n",
       "      <th>7</th>\n",
       "      <td>55637</td>\n",
       "      <td>False</td>\n",
       "      <td>NaN</td>\n",
       "      <td>True</td>\n",
       "      <td>4.80</td>\n",
       "      <td>200.0</td>\n",
       "      <td>Worsted</td>\n",
       "    </tr>\n",
       "    <tr>\n",
       "      <th>8</th>\n",
       "      <td>3248</td>\n",
       "      <td>False</td>\n",
       "      <td>146.0</td>\n",
       "      <td>True</td>\n",
       "      <td>4.66</td>\n",
       "      <td>405.0</td>\n",
       "      <td>Fingering</td>\n",
       "    </tr>\n",
       "    <tr>\n",
       "      <th>9</th>\n",
       "      <td>3847</td>\n",
       "      <td>False</td>\n",
       "      <td>50.0</td>\n",
       "      <td>None</td>\n",
       "      <td>4.52</td>\n",
       "      <td>470.0</td>\n",
       "      <td>Lace</td>\n",
       "    </tr>\n",
       "  </tbody>\n",
       "</table>\n",
       "</div>"
      ],
      "text/plain": [
       "   Yarn ID  Discontinued  Grams Machine Washable  Average Rating  Yardage  \\\n",
       "0     1666         False  100.0             None            4.73    210.0   \n",
       "1    53539         False    NaN             True            4.70    420.0   \n",
       "2    26385         False  100.0             True            4.73    440.0   \n",
       "3     3893         False  150.0             True            4.71    574.0   \n",
       "4    24750         False  150.0             True            4.69    510.0   \n",
       "5    35367         False    NaN             True            4.78    225.0   \n",
       "6     8053         False    NaN             True            4.71    395.0   \n",
       "7    55637         False    NaN             True            4.80    200.0   \n",
       "8     3248         False  146.0             True            4.66    405.0   \n",
       "9     3847         False   50.0             None            4.52    470.0   \n",
       "\n",
       "       Yarn Weight  \n",
       "0             Aran  \n",
       "1        Fingering  \n",
       "2  Light Fingering  \n",
       "3        Fingering  \n",
       "4        Fingering  \n",
       "5               DK  \n",
       "6        Fingering  \n",
       "7          Worsted  \n",
       "8        Fingering  \n",
       "9             Lace  "
      ]
     },
     "execution_count": 48,
     "metadata": {},
     "output_type": "execute_result"
    }
   ],
   "source": [
    "df = pd.DataFrame(TopYarnList, columns=colnames)\n",
    "\n",
    "df.head(10)"
   ]
  },
  {
   "cell_type": "code",
   "execution_count": 49,
   "metadata": {},
   "outputs": [
    {
     "data": {
      "text/plain": [
       "Yarn ID               0\n",
       "Discontinued          0\n",
       "Grams                38\n",
       "Machine Washable    404\n",
       "Average Rating        0\n",
       "Yardage               2\n",
       "Yarn Weight           3\n",
       "dtype: int64"
      ]
     },
     "execution_count": 49,
     "metadata": {},
     "output_type": "execute_result"
    }
   ],
   "source": [
    "df.isnull().sum()"
   ]
  },
  {
   "cell_type": "code",
   "execution_count": 50,
   "metadata": {},
   "outputs": [],
   "source": [
    "df['Machine Washable'].fillna(False, inplace=True)"
   ]
  },
  {
   "cell_type": "code",
   "execution_count": 51,
   "metadata": {},
   "outputs": [
    {
     "data": {
      "text/plain": [
       "Yarn ID              0\n",
       "Discontinued         0\n",
       "Grams               38\n",
       "Machine Washable     0\n",
       "Average Rating       0\n",
       "Yardage              2\n",
       "Yarn Weight          3\n",
       "dtype: int64"
      ]
     },
     "execution_count": 51,
     "metadata": {},
     "output_type": "execute_result"
    }
   ],
   "source": [
    "df.isnull().sum()"
   ]
  },
  {
   "cell_type": "markdown",
   "metadata": {},
   "source": [
    "At this point, I believe that the remaining null values are in a tolerable enough limit and in a fairly small number of fields, that during specific analysis we can choose to ignore the nulls and proceed without any issues."
   ]
  },
  {
   "cell_type": "code",
   "execution_count": 52,
   "metadata": {},
   "outputs": [],
   "source": [
    "df.to_csv('TopRavelryYarnList.csv', index=False, header=True)"
   ]
  },
  {
   "cell_type": "code",
   "execution_count": null,
   "metadata": {},
   "outputs": [],
   "source": []
  }
 ],
 "metadata": {
  "kernelspec": {
   "display_name": "Python 3",
   "language": "python",
   "name": "python3"
  },
  "language_info": {
   "codemirror_mode": {
    "name": "ipython",
    "version": 3
   },
   "file_extension": ".py",
   "mimetype": "text/x-python",
   "name": "python",
   "nbconvert_exporter": "python",
   "pygments_lexer": "ipython3",
   "version": "3.7.3"
  }
 },
 "nbformat": 4,
 "nbformat_minor": 2
}
